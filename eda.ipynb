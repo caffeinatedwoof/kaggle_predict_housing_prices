{
 "cells": [
  {
   "cell_type": "markdown",
   "id": "96e6b5f0",
   "metadata": {},
   "source": [
    "# 1) Executive Summary #\n",
    "\n",
    "I started this competition to practise exploratory data analysis and advanced regression techniques on a dataset with a relatively large number of predictors. \n",
    "\n",
    "I would like to credit __[Pedro Marcelino](https://www.kaggle.com/code/pmarcelino/comprehensive-data-exploration-with-python)__ and __[Erik Bruin](https://www.kaggle.com/code/erikbruin/house-prices-lasso-xgboost-and-a-detailed-eda)__, whose work I referenced in the exploratory data analysis. "
   ]
  },
  {
   "cell_type": "markdown",
   "id": "1b4d65e0",
   "metadata": {},
   "source": [
    "# 2) Introduction #\n",
    "\n",
    "Competition details can be found at this __[link](https://www.kaggle.com/c/house-prices-advanced-regression-techniques)__. The description is reproduced here in the notebook as well: \n",
    "\n",
    "Ask a home buyer to describe their dream house, and they probably won’t begin with the height of the basement ceiling or the proximity to an east-west railroad. But this playground competition’s dataset proves that much more influences price negotiations than the number of bedrooms or a white-picket fence.\n",
    "\n",
    "With 79 explanatory variables describing (almost) every aspect of residential homes in Ames, Iowa, this competition challenges you to predict the final price of each home."
   ]
  },
  {
   "cell_type": "markdown",
   "id": "bcf79711",
   "metadata": {},
   "source": [
    "# 3) Loading and Exploring Data #"
   ]
  },
  {
   "cell_type": "markdown",
   "id": "876521d9",
   "metadata": {},
   "source": [
    "## 3.1) Loading packages used ##"
   ]
  },
  {
   "cell_type": "code",
   "execution_count": 1,
   "id": "c08f8138",
   "metadata": {},
   "outputs": [],
   "source": [
    "import pandas as pd\n",
    "import numpy as np\n",
    "import matplotlib.pyplot as plt\n",
    "import seaborn as sns\n",
    "import datetime as dt\n",
    "from matplotlib import patches\n",
    "from sklearn.preprocessing import RobustScaler"
   ]
  },
  {
   "cell_type": "code",
   "execution_count": 2,
   "id": "f7ea7589",
   "metadata": {},
   "outputs": [],
   "source": [
    "train = pd.read_csv('./datasets/train.csv', index_col='Id')"
   ]
  },
  {
   "cell_type": "markdown",
   "id": "8001c67f",
   "metadata": {},
   "source": [
    "## 3.2) Data size and structure ##"
   ]
  },
  {
   "cell_type": "markdown",
   "id": "eca95f3e",
   "metadata": {},
   "source": [
    "The dataset contains 79 predictors and 1 response variable:"
   ]
  },
  {
   "cell_type": "code",
   "execution_count": 3,
   "id": "ab5df113",
   "metadata": {},
   "outputs": [
    {
     "data": {
      "text/plain": [
       "(1460, 80)"
      ]
     },
     "execution_count": 3,
     "metadata": {},
     "output_type": "execute_result"
    }
   ],
   "source": [
    "train.shape"
   ]
  },
  {
   "cell_type": "code",
   "execution_count": 4,
   "id": "19cc51e4",
   "metadata": {},
   "outputs": [
    {
     "data": {
      "text/html": [
       "<div>\n",
       "<style scoped>\n",
       "    .dataframe tbody tr th:only-of-type {\n",
       "        vertical-align: middle;\n",
       "    }\n",
       "\n",
       "    .dataframe tbody tr th {\n",
       "        vertical-align: top;\n",
       "    }\n",
       "\n",
       "    .dataframe thead th {\n",
       "        text-align: right;\n",
       "    }\n",
       "</style>\n",
       "<table border=\"1\" class=\"dataframe\">\n",
       "  <thead>\n",
       "    <tr style=\"text-align: right;\">\n",
       "      <th></th>\n",
       "      <th>MSSubClass</th>\n",
       "      <th>MSZoning</th>\n",
       "      <th>LotFrontage</th>\n",
       "      <th>LotArea</th>\n",
       "      <th>Street</th>\n",
       "      <th>Alley</th>\n",
       "      <th>LotShape</th>\n",
       "      <th>LandContour</th>\n",
       "      <th>Utilities</th>\n",
       "      <th>LotConfig</th>\n",
       "      <th>...</th>\n",
       "      <th>PoolArea</th>\n",
       "      <th>PoolQC</th>\n",
       "      <th>Fence</th>\n",
       "      <th>MiscFeature</th>\n",
       "      <th>MiscVal</th>\n",
       "      <th>MoSold</th>\n",
       "      <th>YrSold</th>\n",
       "      <th>SaleType</th>\n",
       "      <th>SaleCondition</th>\n",
       "      <th>SalePrice</th>\n",
       "    </tr>\n",
       "    <tr>\n",
       "      <th>Id</th>\n",
       "      <th></th>\n",
       "      <th></th>\n",
       "      <th></th>\n",
       "      <th></th>\n",
       "      <th></th>\n",
       "      <th></th>\n",
       "      <th></th>\n",
       "      <th></th>\n",
       "      <th></th>\n",
       "      <th></th>\n",
       "      <th></th>\n",
       "      <th></th>\n",
       "      <th></th>\n",
       "      <th></th>\n",
       "      <th></th>\n",
       "      <th></th>\n",
       "      <th></th>\n",
       "      <th></th>\n",
       "      <th></th>\n",
       "      <th></th>\n",
       "      <th></th>\n",
       "    </tr>\n",
       "  </thead>\n",
       "  <tbody>\n",
       "    <tr>\n",
       "      <th>1</th>\n",
       "      <td>60</td>\n",
       "      <td>RL</td>\n",
       "      <td>65.0</td>\n",
       "      <td>8450</td>\n",
       "      <td>Pave</td>\n",
       "      <td>NaN</td>\n",
       "      <td>Reg</td>\n",
       "      <td>Lvl</td>\n",
       "      <td>AllPub</td>\n",
       "      <td>Inside</td>\n",
       "      <td>...</td>\n",
       "      <td>0</td>\n",
       "      <td>NaN</td>\n",
       "      <td>NaN</td>\n",
       "      <td>NaN</td>\n",
       "      <td>0</td>\n",
       "      <td>2</td>\n",
       "      <td>2008</td>\n",
       "      <td>WD</td>\n",
       "      <td>Normal</td>\n",
       "      <td>208500</td>\n",
       "    </tr>\n",
       "    <tr>\n",
       "      <th>2</th>\n",
       "      <td>20</td>\n",
       "      <td>RL</td>\n",
       "      <td>80.0</td>\n",
       "      <td>9600</td>\n",
       "      <td>Pave</td>\n",
       "      <td>NaN</td>\n",
       "      <td>Reg</td>\n",
       "      <td>Lvl</td>\n",
       "      <td>AllPub</td>\n",
       "      <td>FR2</td>\n",
       "      <td>...</td>\n",
       "      <td>0</td>\n",
       "      <td>NaN</td>\n",
       "      <td>NaN</td>\n",
       "      <td>NaN</td>\n",
       "      <td>0</td>\n",
       "      <td>5</td>\n",
       "      <td>2007</td>\n",
       "      <td>WD</td>\n",
       "      <td>Normal</td>\n",
       "      <td>181500</td>\n",
       "    </tr>\n",
       "    <tr>\n",
       "      <th>3</th>\n",
       "      <td>60</td>\n",
       "      <td>RL</td>\n",
       "      <td>68.0</td>\n",
       "      <td>11250</td>\n",
       "      <td>Pave</td>\n",
       "      <td>NaN</td>\n",
       "      <td>IR1</td>\n",
       "      <td>Lvl</td>\n",
       "      <td>AllPub</td>\n",
       "      <td>Inside</td>\n",
       "      <td>...</td>\n",
       "      <td>0</td>\n",
       "      <td>NaN</td>\n",
       "      <td>NaN</td>\n",
       "      <td>NaN</td>\n",
       "      <td>0</td>\n",
       "      <td>9</td>\n",
       "      <td>2008</td>\n",
       "      <td>WD</td>\n",
       "      <td>Normal</td>\n",
       "      <td>223500</td>\n",
       "    </tr>\n",
       "    <tr>\n",
       "      <th>4</th>\n",
       "      <td>70</td>\n",
       "      <td>RL</td>\n",
       "      <td>60.0</td>\n",
       "      <td>9550</td>\n",
       "      <td>Pave</td>\n",
       "      <td>NaN</td>\n",
       "      <td>IR1</td>\n",
       "      <td>Lvl</td>\n",
       "      <td>AllPub</td>\n",
       "      <td>Corner</td>\n",
       "      <td>...</td>\n",
       "      <td>0</td>\n",
       "      <td>NaN</td>\n",
       "      <td>NaN</td>\n",
       "      <td>NaN</td>\n",
       "      <td>0</td>\n",
       "      <td>2</td>\n",
       "      <td>2006</td>\n",
       "      <td>WD</td>\n",
       "      <td>Abnorml</td>\n",
       "      <td>140000</td>\n",
       "    </tr>\n",
       "    <tr>\n",
       "      <th>5</th>\n",
       "      <td>60</td>\n",
       "      <td>RL</td>\n",
       "      <td>84.0</td>\n",
       "      <td>14260</td>\n",
       "      <td>Pave</td>\n",
       "      <td>NaN</td>\n",
       "      <td>IR1</td>\n",
       "      <td>Lvl</td>\n",
       "      <td>AllPub</td>\n",
       "      <td>FR2</td>\n",
       "      <td>...</td>\n",
       "      <td>0</td>\n",
       "      <td>NaN</td>\n",
       "      <td>NaN</td>\n",
       "      <td>NaN</td>\n",
       "      <td>0</td>\n",
       "      <td>12</td>\n",
       "      <td>2008</td>\n",
       "      <td>WD</td>\n",
       "      <td>Normal</td>\n",
       "      <td>250000</td>\n",
       "    </tr>\n",
       "  </tbody>\n",
       "</table>\n",
       "<p>5 rows × 80 columns</p>\n",
       "</div>"
      ],
      "text/plain": [
       "    MSSubClass MSZoning  LotFrontage  LotArea Street Alley LotShape  \\\n",
       "Id                                                                    \n",
       "1           60       RL         65.0     8450   Pave   NaN      Reg   \n",
       "2           20       RL         80.0     9600   Pave   NaN      Reg   \n",
       "3           60       RL         68.0    11250   Pave   NaN      IR1   \n",
       "4           70       RL         60.0     9550   Pave   NaN      IR1   \n",
       "5           60       RL         84.0    14260   Pave   NaN      IR1   \n",
       "\n",
       "   LandContour Utilities LotConfig  ... PoolArea PoolQC Fence MiscFeature  \\\n",
       "Id                                  ...                                     \n",
       "1          Lvl    AllPub    Inside  ...        0    NaN   NaN         NaN   \n",
       "2          Lvl    AllPub       FR2  ...        0    NaN   NaN         NaN   \n",
       "3          Lvl    AllPub    Inside  ...        0    NaN   NaN         NaN   \n",
       "4          Lvl    AllPub    Corner  ...        0    NaN   NaN         NaN   \n",
       "5          Lvl    AllPub       FR2  ...        0    NaN   NaN         NaN   \n",
       "\n",
       "   MiscVal MoSold  YrSold  SaleType  SaleCondition  SalePrice  \n",
       "Id                                                             \n",
       "1        0      2    2008        WD         Normal     208500  \n",
       "2        0      5    2007        WD         Normal     181500  \n",
       "3        0      9    2008        WD         Normal     223500  \n",
       "4        0      2    2006        WD        Abnorml     140000  \n",
       "5        0     12    2008        WD         Normal     250000  \n",
       "\n",
       "[5 rows x 80 columns]"
      ]
     },
     "execution_count": 4,
     "metadata": {},
     "output_type": "execute_result"
    }
   ],
   "source": [
    "train.head()"
   ]
  },
  {
   "cell_type": "code",
   "execution_count": 5,
   "id": "db834c6c",
   "metadata": {},
   "outputs": [
    {
     "name": "stdout",
     "output_type": "stream",
     "text": [
      "<class 'pandas.core.frame.DataFrame'>\n",
      "Int64Index: 1460 entries, 1 to 1460\n",
      "Data columns (total 80 columns):\n",
      " #   Column         Non-Null Count  Dtype  \n",
      "---  ------         --------------  -----  \n",
      " 0   MSSubClass     1460 non-null   int64  \n",
      " 1   MSZoning       1460 non-null   object \n",
      " 2   LotFrontage    1201 non-null   float64\n",
      " 3   LotArea        1460 non-null   int64  \n",
      " 4   Street         1460 non-null   object \n",
      " 5   Alley          91 non-null     object \n",
      " 6   LotShape       1460 non-null   object \n",
      " 7   LandContour    1460 non-null   object \n",
      " 8   Utilities      1460 non-null   object \n",
      " 9   LotConfig      1460 non-null   object \n",
      " 10  LandSlope      1460 non-null   object \n",
      " 11  Neighborhood   1460 non-null   object \n",
      " 12  Condition1     1460 non-null   object \n",
      " 13  Condition2     1460 non-null   object \n",
      " 14  BldgType       1460 non-null   object \n",
      " 15  HouseStyle     1460 non-null   object \n",
      " 16  OverallQual    1460 non-null   int64  \n",
      " 17  OverallCond    1460 non-null   int64  \n",
      " 18  YearBuilt      1460 non-null   int64  \n",
      " 19  YearRemodAdd   1460 non-null   int64  \n",
      " 20  RoofStyle      1460 non-null   object \n",
      " 21  RoofMatl       1460 non-null   object \n",
      " 22  Exterior1st    1460 non-null   object \n",
      " 23  Exterior2nd    1460 non-null   object \n",
      " 24  MasVnrType     1452 non-null   object \n",
      " 25  MasVnrArea     1452 non-null   float64\n",
      " 26  ExterQual      1460 non-null   object \n",
      " 27  ExterCond      1460 non-null   object \n",
      " 28  Foundation     1460 non-null   object \n",
      " 29  BsmtQual       1423 non-null   object \n",
      " 30  BsmtCond       1423 non-null   object \n",
      " 31  BsmtExposure   1422 non-null   object \n",
      " 32  BsmtFinType1   1423 non-null   object \n",
      " 33  BsmtFinSF1     1460 non-null   int64  \n",
      " 34  BsmtFinType2   1422 non-null   object \n",
      " 35  BsmtFinSF2     1460 non-null   int64  \n",
      " 36  BsmtUnfSF      1460 non-null   int64  \n",
      " 37  TotalBsmtSF    1460 non-null   int64  \n",
      " 38  Heating        1460 non-null   object \n",
      " 39  HeatingQC      1460 non-null   object \n",
      " 40  CentralAir     1460 non-null   object \n",
      " 41  Electrical     1459 non-null   object \n",
      " 42  1stFlrSF       1460 non-null   int64  \n",
      " 43  2ndFlrSF       1460 non-null   int64  \n",
      " 44  LowQualFinSF   1460 non-null   int64  \n",
      " 45  GrLivArea      1460 non-null   int64  \n",
      " 46  BsmtFullBath   1460 non-null   int64  \n",
      " 47  BsmtHalfBath   1460 non-null   int64  \n",
      " 48  FullBath       1460 non-null   int64  \n",
      " 49  HalfBath       1460 non-null   int64  \n",
      " 50  BedroomAbvGr   1460 non-null   int64  \n",
      " 51  KitchenAbvGr   1460 non-null   int64  \n",
      " 52  KitchenQual    1460 non-null   object \n",
      " 53  TotRmsAbvGrd   1460 non-null   int64  \n",
      " 54  Functional     1460 non-null   object \n",
      " 55  Fireplaces     1460 non-null   int64  \n",
      " 56  FireplaceQu    770 non-null    object \n",
      " 57  GarageType     1379 non-null   object \n",
      " 58  GarageYrBlt    1379 non-null   float64\n",
      " 59  GarageFinish   1379 non-null   object \n",
      " 60  GarageCars     1460 non-null   int64  \n",
      " 61  GarageArea     1460 non-null   int64  \n",
      " 62  GarageQual     1379 non-null   object \n",
      " 63  GarageCond     1379 non-null   object \n",
      " 64  PavedDrive     1460 non-null   object \n",
      " 65  WoodDeckSF     1460 non-null   int64  \n",
      " 66  OpenPorchSF    1460 non-null   int64  \n",
      " 67  EnclosedPorch  1460 non-null   int64  \n",
      " 68  3SsnPorch      1460 non-null   int64  \n",
      " 69  ScreenPorch    1460 non-null   int64  \n",
      " 70  PoolArea       1460 non-null   int64  \n",
      " 71  PoolQC         7 non-null      object \n",
      " 72  Fence          281 non-null    object \n",
      " 73  MiscFeature    54 non-null     object \n",
      " 74  MiscVal        1460 non-null   int64  \n",
      " 75  MoSold         1460 non-null   int64  \n",
      " 76  YrSold         1460 non-null   int64  \n",
      " 77  SaleType       1460 non-null   object \n",
      " 78  SaleCondition  1460 non-null   object \n",
      " 79  SalePrice      1460 non-null   int64  \n",
      "dtypes: float64(3), int64(34), object(43)\n",
      "memory usage: 923.9+ KB\n"
     ]
    }
   ],
   "source": [
    "train.info()"
   ]
  },
  {
   "cell_type": "markdown",
   "id": "1f118db2",
   "metadata": {},
   "source": [
    "# 4) Exploring some of the most important variables #"
   ]
  },
  {
   "cell_type": "markdown",
   "id": "f789efd9",
   "metadata": {},
   "source": [
    "## 4.1) Dependent Variable: SalePrice ##\n",
    "\n",
    "Let's look at the distribution of sale prices first. "
   ]
  },
  {
   "cell_type": "code",
   "execution_count": 6,
   "id": "fc6282bd",
   "metadata": {},
   "outputs": [
    {
     "data": {
      "text/plain": [
       "count      1460.000000\n",
       "mean     180921.195890\n",
       "std       79442.502883\n",
       "min       34900.000000\n",
       "25%      129975.000000\n",
       "50%      163000.000000\n",
       "75%      214000.000000\n",
       "max      755000.000000\n",
       "Name: SalePrice, dtype: float64"
      ]
     },
     "execution_count": 6,
     "metadata": {},
     "output_type": "execute_result"
    }
   ],
   "source": [
    "#descriptive statistics summary\n",
    "labels = train['SalePrice']\n",
    "labels.describe()"
   ]
  },
  {
   "cell_type": "code",
   "execution_count": 7,
   "id": "2cc24dba",
   "metadata": {},
   "outputs": [
    {
     "name": "stdout",
     "output_type": "stream",
     "text": [
      "163000.0\n"
     ]
    }
   ],
   "source": [
    "print(labels.median())"
   ]
  },
  {
   "cell_type": "code",
   "execution_count": 8,
   "id": "70bf7eb5",
   "metadata": {},
   "outputs": [],
   "source": [
    "mean_saleprice = labels.mean()\n",
    "median_saleprice = labels.median()"
   ]
  },
  {
   "cell_type": "markdown",
   "id": "616dd977",
   "metadata": {},
   "source": [
    "As a sanity check, it's a good sign that the minimum price is non-negative. Mislabelled data with negative values would hurt the predictive power of our model subsequently. "
   ]
  },
  {
   "cell_type": "code",
   "execution_count": 9,
   "id": "00c2d7bd",
   "metadata": {},
   "outputs": [
    {
     "data": {
      "image/png": "[encoded data removed]",
      "text/plain": [
       "<Figure size 500x500 with 1 Axes>"
      ]
     },
     "metadata": {},
     "output_type": "display_data"
    }
   ],
   "source": [
    "#histogram\n",
    "sns.displot(labels,kde='True');"
   ]
  },
  {
   "cell_type": "markdown",
   "id": "e9ca8465",
   "metadata": {},
   "source": [
    "From the plot, we can see that the sale prices:\n",
    "- Deviate from the normal distribution\n",
    "\n",
    "- Is skewed positively\n",
    "\n",
    "- Show peakedness"
   ]
  },
  {
   "cell_type": "code",
   "execution_count": 10,
   "id": "6d067d29",
   "metadata": {},
   "outputs": [
    {
     "name": "stdout",
     "output_type": "stream",
     "text": [
      "Skewness: 1.882876\n"
     ]
    }
   ],
   "source": [
    "#skewness\n",
    "print(\"Skewness: %f\" % labels.skew())"
   ]
  },
  {
   "cell_type": "markdown",
   "id": "94655eb4",
   "metadata": {},
   "source": [
    "In a positively skewed distribution, the mean of the data is greater than the median, which in turn is greater than the mode. A (Pearson's second) coefficient of skewness that is greater than 1 indicates extreme skewness.   \n",
    "\n",
    "For distributions with a positive skew, we can apply a log transformation subsequently to approximate a normal distribution. "
   ]
  },
  {
   "cell_type": "code",
   "execution_count": 11,
   "id": "7e7cb19a",
   "metadata": {},
   "outputs": [
    {
     "name": "stdout",
     "output_type": "stream",
     "text": [
      "Kurtosis: 6.536282\n"
     ]
    }
   ],
   "source": [
    "#kurtosis\n",
    "print(\"Kurtosis: %f\" % labels.kurt())"
   ]
  },
  {
   "cell_type": "markdown",
   "id": "2151484e",
   "metadata": {},
   "source": [
    "Excess Kurtosis is used to compare the kurtosis coefficient with that of the normal distribution. \n",
    "\n",
    "Since normal distributions have a kurtosis of 3, excess kurtosis is calculated by subtracting kurtosis by 3:"
   ]
  },
  {
   "cell_type": "code",
   "execution_count": 12,
   "id": "c8b2c994",
   "metadata": {},
   "outputs": [
    {
     "name": "stdout",
     "output_type": "stream",
     "text": [
      "Excess Kurtosis: 3.536282\n"
     ]
    }
   ],
   "source": [
    "print(\"Excess Kurtosis: %f\" % (labels.kurt() - 3)) #Excess Kurtosis = Kurt - 3"
   ]
  },
  {
   "cell_type": "markdown",
   "id": "8be0c19b",
   "metadata": {},
   "source": [
    "An excess kurtosis of > 3 indicates a leptokurtic (or heavy-tailed) distribution. \n",
    "\n",
    "This is unsurprising - from the distribution plot above, we can see that sale prices has a long and skinny tail, and therefore higher chances of outliers. "
   ]
  },
  {
   "cell_type": "markdown",
   "id": "58fb6d75",
   "metadata": {},
   "source": [
    "## 4.2) Most important predictors of sale price ##"
   ]
  },
  {
   "cell_type": "markdown",
   "id": "e4db7c11",
   "metadata": {},
   "source": [
    "There are 79 variables in total, and clearly we will not be able to include all of them in our model to prevent overfitting. Many of the variables are likely correlated anyway.\n",
    "\n",
    "As a preliminary approach, we can collapse our variables into categories that are likely important predictors of sale price:\n",
    "\n",
    "1) Location\n",
    "\n",
    "2) Size of the House\n",
    "\n",
    "3) Condition of the House\n",
    "\n",
    "4) Exogenous factors*\n",
    "\n",
    "_(Exogenous factors refer to factors that have nothing to do with the inherent 'quality' of the house. Examples would include seasonality (MoSold) or the financial crisis (YrSold)_ \n",
    "\n",
    "Let's start off with the first - location. The most applicable column would be 'Neighborhood'."
   ]
  },
  {
   "cell_type": "markdown",
   "id": "351b5fc6",
   "metadata": {},
   "source": [
    "### 4.2.1) Location:  'Neighborhood' ###"
   ]
  },
  {
   "cell_type": "code",
   "execution_count": 13,
   "id": "637fe031",
   "metadata": {},
   "outputs": [
    {
     "name": "stdout",
     "output_type": "stream",
     "text": [
      "<class 'pandas.core.series.Series'>\n",
      "Int64Index: 1460 entries, 1 to 1460\n",
      "Series name: Neighborhood\n",
      "Non-Null Count  Dtype \n",
      "--------------  ----- \n",
      "1460 non-null   object\n",
      "dtypes: object(1)\n",
      "memory usage: 22.8+ KB\n"
     ]
    }
   ],
   "source": [
    "train['Neighborhood'].info()"
   ]
  },
  {
   "cell_type": "markdown",
   "id": "344b229d",
   "metadata": {},
   "source": [
    "It's good to know that there are no missing values. \n",
    "\n",
    "'Neighborhood' is a categorical variable, so we'd have to encode them subsequently before we can use them in our model."
   ]
  },
  {
   "cell_type": "code",
   "execution_count": 14,
   "id": "b097582b",
   "metadata": {},
   "outputs": [
    {
     "data": {
      "text/plain": [
       "NAmes      225\n",
       "CollgCr    150\n",
       "OldTown    113\n",
       "Edwards    100\n",
       "Somerst     86\n",
       "Gilbert     79\n",
       "NridgHt     77\n",
       "Sawyer      74\n",
       "NWAmes      73\n",
       "SawyerW     59\n",
       "BrkSide     58\n",
       "Crawfor     51\n",
       "Mitchel     49\n",
       "NoRidge     41\n",
       "Timber      38\n",
       "IDOTRR      37\n",
       "ClearCr     28\n",
       "StoneBr     25\n",
       "SWISU       25\n",
       "MeadowV     17\n",
       "Blmngtn     17\n",
       "BrDale      16\n",
       "Veenker     11\n",
       "NPkVill      9\n",
       "Blueste      2\n",
       "Name: Neighborhood, dtype: int64"
      ]
     },
     "execution_count": 14,
     "metadata": {},
     "output_type": "execute_result"
    }
   ],
   "source": [
    "train['Neighborhood'].value_counts()"
   ]
  },
  {
   "cell_type": "code",
   "execution_count": 15,
   "id": "f5fd2c34",
   "metadata": {},
   "outputs": [
    {
     "data": {
      "image/png": "[encoded data removed]",
      "text/plain": [
       "<Figure size 800x600 with 1 Axes>"
      ]
     },
     "metadata": {},
     "output_type": "display_data"
    }
   ],
   "source": [
    "#box plot neighborhood/saleprice\n",
    "var = 'Neighborhood'\n",
    "data = pd.concat([train['SalePrice'], train[var]], axis=1)\n",
    "f, ax = plt.subplots(figsize=(8, 6))\n",
    "fig = sns.boxplot(x=var, y=\"SalePrice\", data=data)\n",
    "plt.xticks(rotation=45)\n",
    "fig.axis(ymin=0, ymax=800000);"
   ]
  },
  {
   "cell_type": "markdown",
   "id": "c371bd29",
   "metadata": {},
   "source": [
    "Note that there are 25 neighborhoods - having that many dummy variables may make the interpretation of our coefficients difficult later on, and might also result in overfitting. There are also some neighborhoods with very few data points. The presence of imbalanced classes mean that binning the similar neighborhoods together may help reduce the bias in the model. We'll bin the neighborhoods under the feature engineering section later. "
   ]
  },
  {
   "cell_type": "markdown",
   "id": "a8a15296",
   "metadata": {},
   "source": [
    "### 4.2.2) Condition of the House ###"
   ]
  },
  {
   "cell_type": "markdown",
   "id": "59e7ac05",
   "metadata": {},
   "source": [
    "There are many variables that correlate with the size and condition of the house. \n",
    "\n",
    "Let's start by examining a simple correlation matrix between the variables and SalePrice, and then select our candidate variables from there."
   ]
  },
  {
   "cell_type": "code",
   "execution_count": 18,
   "id": "731bb172",
   "metadata": {},
   "outputs": [
    {
     "name": "stderr",
     "output_type": "stream",
     "text": [
      "/var/folders/lw/rrbkgcqn1rd5b065dkf8ctwr0000gn/T/ipykernel_52042/3490709552.py:2: FutureWarning: The default value of numeric_only in DataFrame.corr is deprecated. In a future version, it will default to False. Select only valid columns or specify the value of numeric_only to silence this warning.\n",
      "  corrmat = train.corr()\n"
     ]
    },
    {
     "data": {
      "image/png": "[encoded data removed]",
      "text/plain": [
       "<Figure size 640x480 with 2 Axes>"
      ]
     },
     "metadata": {},
     "output_type": "display_data"
    }
   ],
   "source": [
    "#saleprice correlation matrix\n",
    "corrmat = train.corr()\n",
    "k = 10 #number of variables for heatmap\n",
    "cols = corrmat.nlargest(k, 'SalePrice')['SalePrice'].index\n",
    "cm = np.corrcoef(train[cols].values.T)\n",
    "sns.set(font_scale=1.25)\n",
    "hm = sns.heatmap(cm, cbar=True, annot=True, square=True, fmt='.2f', annot_kws={'size': 10}, yticklabels=cols.values, xticklabels=cols.values)\n",
    "plt.show()"
   ]
  },
  {
   "cell_type": "markdown",
   "id": "86471ee5",
   "metadata": {},
   "source": [
    "#### 4.2.2.1) Examining OverallQual ####\n",
    "\n",
    "OverallQual is the most correlated with SalePrice. "
   ]
  },
  {
   "cell_type": "code",
   "execution_count": 17,
   "id": "f082056a",
   "metadata": {},
   "outputs": [
    {
     "data": {
      "image/png": "[encoded data removed]",
      "text/plain": [
       "<Figure size 800x600 with 1 Axes>"
      ]
     },
     "metadata": {},
     "output_type": "display_data"
    }
   ],
   "source": [
    "#box plot overallqual/saleprice\n",
    "var = 'OverallQual'\n",
    "data = pd.concat([train['SalePrice'], train[var]], axis=1)\n",
    "f, ax = plt.subplots(figsize=(8, 6))\n",
    "fig = sns.boxplot(x=var, y=\"SalePrice\", data=data)\n",
    "fig.axis(ymin=0, ymax=800000);"
   ]
  },
  {
   "cell_type": "markdown",
   "id": "9c0a1d60",
   "metadata": {},
   "source": [
    "OverallQual seems to be a great categorical variable to use in our model. \n",
    "\n",
    "Based on the ordinal encoding, we can see that there appears to be a linear relationship between the quality of the house and the sale price. "
   ]
  },
  {
   "cell_type": "markdown",
   "id": "8dd5bf02",
   "metadata": {},
   "source": [
    "#### 4.2.2.2) Examining YearBuilt, YearRemodAdd, MoSold, YrSold ####"
   ]
  },
  {
   "cell_type": "markdown",
   "id": "785e2529",
   "metadata": {},
   "source": [
    "YearBuilt also contains information on the condition of the house. We might expect that newer houses would fetch higher prices in general. However, there are some subtleties we need to take into account, such as whether the house had been remodelled before being sold. "
   ]
  },
  {
   "cell_type": "code",
   "execution_count": null,
   "id": "1d23b6a1",
   "metadata": {},
   "outputs": [],
   "source": [
    "# groupby YrSold & MoSold to estimate the median sale price\n",
    "var1, var2 = 'YrSold', 'MoSold'\n",
    "median_by_YrMoSold = train.groupby([var1,var2])['SalePrice'].agg('median')\n",
    "median_by_YrMoSold = median_by_YrMoSold.reset_index(level=[0,1])\n",
    "median_by_YrMoSold['YrMo'] = median_by_YrMoSold['YrSold'].astype(str) + '-' + median_by_YrMoSold['MoSold'].astype(str)\n",
    "# groupby YrSold & MoSold to estimate the mean sale price\n",
    "mean_by_YrMoSold = train.groupby([var1,var2])['SalePrice'].agg('mean')\n",
    "mean_by_YrMoSold = mean_by_YrMoSold.reset_index(level=[0,1])\n",
    "mean_by_YrMoSold['YrMo'] = mean_by_YrMoSold['YrSold'].astype(str) + '-' + mean_by_YrMoSold['MoSold'].astype(str)"
   ]
  },
  {
   "cell_type": "code",
   "execution_count": null,
   "id": "bf4ddb7e",
   "metadata": {},
   "outputs": [],
   "source": [
    "# plot the data\n",
    "sns.relplot(kind='line', data=median_by_YrMoSold, x='MoSold', y='SalePrice', hue='YrSold', aspect=2.5, marker='o')\n",
    "plt.title(\"Median SalePrice by Month\")\n",
    "plt.xlabel('Month')\n",
    "plt.axhline(y = median_saleprice, linestyle='dashed', color='red')\n",
    "plt.show()\n",
    "\n",
    "sns.relplot(kind='line', data=mean_by_YrMoSold, x='MoSold', y='SalePrice', hue='YrSold', aspect=2.5, marker='o')\n",
    "plt.title(\"Mean SalePrice by Month\")\n",
    "plt.xlabel('Month')\n",
    "plt.axhline(y = mean_saleprice, linestyle='dashed', color='red')\n",
    "plt.show()"
   ]
  },
  {
   "cell_type": "markdown",
   "id": "9c5040ce",
   "metadata": {},
   "source": [
    "From the overlapping plots of median and mean price by month, we can see a seasonal trend."
   ]
  },
  {
   "cell_type": "code",
   "execution_count": null,
   "id": "6ddef07d",
   "metadata": {},
   "outputs": [],
   "source": [
    "plt.plot(median_by_YrMoSold['YrMo'], median_by_YrMoSold['SalePrice'])\n",
    "plt.xticks(ticks = range(0, 54, 6),labels= median_by_YrMoSold['YrMo'][0:54:6],rotation=45)\n",
    "plt.title('Median SalePrice From 2006 - 2010')\n",
    "plt.axhline(y = median_saleprice, linestyle='dashed', color='red')\n",
    "plt.show()\n",
    "\n",
    "plt.plot(mean_by_YrMoSold['YrMo'], mean_by_YrMoSold['SalePrice'])\n",
    "plt.xticks(ticks = range(0, 54, 6),labels= mean_by_YrMoSold['YrMo'][0:54:6],rotation=45)\n",
    "plt.title('Mean SalePrice From 2006 - 2010')\n",
    "plt.axhline(y = mean_saleprice, linestyle='dashed', color='red')\n",
    "plt.show()"
   ]
  },
  {
   "cell_type": "markdown",
   "id": "e53312ec",
   "metadata": {},
   "source": [
    "There is a noticeable dropoff of the mean sale price after 2009, likely due to the financial crisis."
   ]
  },
  {
   "cell_type": "markdown",
   "id": "9ce4d93a",
   "metadata": {},
   "source": [
    "The appears to be a non-linear relationship between the age of the house and the sale price. \n",
    "\n",
    "While we would expect older houses to fetch a lower price, it's possible that there's a selection bias in that the older houses which manage to get sold (and featured in the dataset) are those that have exceptional redeeming features (e.g. antique, well-maintained). "
   ]
  },
  {
   "cell_type": "markdown",
   "id": "89c12fac",
   "metadata": {},
   "source": [
    "### 4.2.3) Examining GrLivArea& TotalBsmtSF ###\n",
    "\n",
    "GrLivArea captures the living area square feet, while TotalBsmtSF captures the total squarefeet of the basement area. "
   ]
  },
  {
   "cell_type": "code",
   "execution_count": null,
   "id": "d1590e40",
   "metadata": {},
   "outputs": [],
   "source": [
    "#scatter plot grlivarea/saleprice\n",
    "var = 'GrLivArea'\n",
    "data = pd.concat([train['SalePrice'], train[var]], axis=1)\n",
    "data.plot.scatter(x=var, y='SalePrice', ylim=(0,800000));"
   ]
  },
  {
   "cell_type": "code",
   "execution_count": null,
   "id": "8819d106",
   "metadata": {},
   "outputs": [],
   "source": [
    "#scatter plot totalbsmtsf/saleprice\n",
    "var = 'TotalBsmtSF'\n",
    "data = pd.concat([train['SalePrice'], train[var]], axis=1)\n",
    "data.plot.scatter(x=var, y='SalePrice', ylim=(0,800000));"
   ]
  },
  {
   "cell_type": "markdown",
   "id": "fc839346",
   "metadata": {},
   "source": [
    "Both predictors appear to have a linear relationship with SalePrice. \n",
    "\n",
    "There is some moderate correlation between the two (r = 0.45), which we will take note for now. "
   ]
  },
  {
   "cell_type": "markdown",
   "id": "f9b1818b",
   "metadata": {},
   "source": [
    "### Sale Condition ###\n",
    "\n",
    "Location, size and condition should account for most of the variations in sale price, but there might be exceptional circumstances that result in anomalies (e.g. fire-sales).\n",
    "\n",
    "SaleCondition is one predictor that may help capture some of the anomalies."
   ]
  },
  {
   "cell_type": "code",
   "execution_count": null,
   "id": "1532b963",
   "metadata": {},
   "outputs": [],
   "source": [
    "train['SaleCondition'].value_counts()"
   ]
  },
  {
   "cell_type": "code",
   "execution_count": null,
   "id": "5a137495",
   "metadata": {},
   "outputs": [],
   "source": [
    "#box plot salecondition/saleprice\n",
    "var = 'SaleCondition'\n",
    "data = pd.concat([train['SalePrice'], train[var]], axis=1)\n",
    "f, ax = plt.subplots(figsize=(8, 6))\n",
    "fig = sns.boxplot(x=var, y=\"SalePrice\", data=data)\n",
    "plt.xticks(rotation=45)\n",
    "fig.axis(ymin=0, ymax=800000);"
   ]
  },
  {
   "cell_type": "markdown",
   "id": "32b119d2",
   "metadata": {},
   "source": [
    "Majority of sales were normal sales. \n",
    "\n",
    "As the data is non-ordinal, it is difficult to discern a clear trend from the visualization alone. \n",
    "\n",
    "From the box plots, we can see there are some outliers in each category."
   ]
  },
  {
   "cell_type": "code",
   "execution_count": null,
   "id": "802d47a4",
   "metadata": {},
   "outputs": [],
   "source": [
    "#scatterplot\n",
    "sns.set()\n",
    "cols = ['SalePrice', 'OverallQual', 'GrLivArea', 'TotalBsmtSF']\n",
    "sns.pairplot(train[cols], height = 2.5)\n",
    "plt.show();"
   ]
  },
  {
   "cell_type": "markdown",
   "id": "b6c14d82",
   "metadata": {},
   "source": [
    "## 5) Missing Data ##"
   ]
  },
  {
   "cell_type": "markdown",
   "id": "8d278bef",
   "metadata": {},
   "source": [
    "In handling missing data, there are a few things we need to consider:\n",
    "\n",
    "1) Is there a pattern to the missing data?\n",
    "\n",
    "2) Is the missing data likely to be important in our model?\n",
    "\n",
    "We need to consider the two factors above before deciding whether we should remove or impute the values. "
   ]
  },
  {
   "cell_type": "code",
   "execution_count": 19,
   "id": "66f9651a",
   "metadata": {},
   "outputs": [
    {
     "data": {
      "text/html": [
       "<div>\n",
       "<style scoped>\n",
       "    .dataframe tbody tr th:only-of-type {\n",
       "        vertical-align: middle;\n",
       "    }\n",
       "\n",
       "    .dataframe tbody tr th {\n",
       "        vertical-align: top;\n",
       "    }\n",
       "\n",
       "    .dataframe thead th {\n",
       "        text-align: right;\n",
       "    }\n",
       "</style>\n",
       "<table border=\"1\" class=\"dataframe\">\n",
       "  <thead>\n",
       "    <tr style=\"text-align: right;\">\n",
       "      <th></th>\n",
       "      <th>Total</th>\n",
       "      <th>Percent</th>\n",
       "    </tr>\n",
       "  </thead>\n",
       "  <tbody>\n",
       "    <tr>\n",
       "      <th>PoolQC</th>\n",
       "      <td>1453</td>\n",
       "      <td>0.995205</td>\n",
       "    </tr>\n",
       "    <tr>\n",
       "      <th>MiscFeature</th>\n",
       "      <td>1406</td>\n",
       "      <td>0.963014</td>\n",
       "    </tr>\n",
       "    <tr>\n",
       "      <th>Alley</th>\n",
       "      <td>1369</td>\n",
       "      <td>0.937671</td>\n",
       "    </tr>\n",
       "    <tr>\n",
       "      <th>Fence</th>\n",
       "      <td>1179</td>\n",
       "      <td>0.807534</td>\n",
       "    </tr>\n",
       "    <tr>\n",
       "      <th>FireplaceQu</th>\n",
       "      <td>690</td>\n",
       "      <td>0.472603</td>\n",
       "    </tr>\n",
       "    <tr>\n",
       "      <th>LotFrontage</th>\n",
       "      <td>259</td>\n",
       "      <td>0.177397</td>\n",
       "    </tr>\n",
       "    <tr>\n",
       "      <th>GarageYrBlt</th>\n",
       "      <td>81</td>\n",
       "      <td>0.055479</td>\n",
       "    </tr>\n",
       "    <tr>\n",
       "      <th>GarageCond</th>\n",
       "      <td>81</td>\n",
       "      <td>0.055479</td>\n",
       "    </tr>\n",
       "    <tr>\n",
       "      <th>GarageType</th>\n",
       "      <td>81</td>\n",
       "      <td>0.055479</td>\n",
       "    </tr>\n",
       "    <tr>\n",
       "      <th>GarageFinish</th>\n",
       "      <td>81</td>\n",
       "      <td>0.055479</td>\n",
       "    </tr>\n",
       "    <tr>\n",
       "      <th>GarageQual</th>\n",
       "      <td>81</td>\n",
       "      <td>0.055479</td>\n",
       "    </tr>\n",
       "    <tr>\n",
       "      <th>BsmtExposure</th>\n",
       "      <td>38</td>\n",
       "      <td>0.026027</td>\n",
       "    </tr>\n",
       "    <tr>\n",
       "      <th>BsmtFinType2</th>\n",
       "      <td>38</td>\n",
       "      <td>0.026027</td>\n",
       "    </tr>\n",
       "    <tr>\n",
       "      <th>BsmtCond</th>\n",
       "      <td>37</td>\n",
       "      <td>0.025342</td>\n",
       "    </tr>\n",
       "    <tr>\n",
       "      <th>BsmtQual</th>\n",
       "      <td>37</td>\n",
       "      <td>0.025342</td>\n",
       "    </tr>\n",
       "    <tr>\n",
       "      <th>BsmtFinType1</th>\n",
       "      <td>37</td>\n",
       "      <td>0.025342</td>\n",
       "    </tr>\n",
       "    <tr>\n",
       "      <th>MasVnrArea</th>\n",
       "      <td>8</td>\n",
       "      <td>0.005479</td>\n",
       "    </tr>\n",
       "    <tr>\n",
       "      <th>MasVnrType</th>\n",
       "      <td>8</td>\n",
       "      <td>0.005479</td>\n",
       "    </tr>\n",
       "    <tr>\n",
       "      <th>Electrical</th>\n",
       "      <td>1</td>\n",
       "      <td>0.000685</td>\n",
       "    </tr>\n",
       "    <tr>\n",
       "      <th>MSSubClass</th>\n",
       "      <td>0</td>\n",
       "      <td>0.000000</td>\n",
       "    </tr>\n",
       "  </tbody>\n",
       "</table>\n",
       "</div>"
      ],
      "text/plain": [
       "              Total   Percent\n",
       "PoolQC         1453  0.995205\n",
       "MiscFeature    1406  0.963014\n",
       "Alley          1369  0.937671\n",
       "Fence          1179  0.807534\n",
       "FireplaceQu     690  0.472603\n",
       "LotFrontage     259  0.177397\n",
       "GarageYrBlt      81  0.055479\n",
       "GarageCond       81  0.055479\n",
       "GarageType       81  0.055479\n",
       "GarageFinish     81  0.055479\n",
       "GarageQual       81  0.055479\n",
       "BsmtExposure     38  0.026027\n",
       "BsmtFinType2     38  0.026027\n",
       "BsmtCond         37  0.025342\n",
       "BsmtQual         37  0.025342\n",
       "BsmtFinType1     37  0.025342\n",
       "MasVnrArea        8  0.005479\n",
       "MasVnrType        8  0.005479\n",
       "Electrical        1  0.000685\n",
       "MSSubClass        0  0.000000"
      ]
     },
     "execution_count": 19,
     "metadata": {},
     "output_type": "execute_result"
    }
   ],
   "source": [
    "#missing data\n",
    "total = train.isnull().sum().sort_values(ascending=False)\n",
    "percent = (train.isnull().sum()/train.isnull().count()).sort_values(ascending=False)\n",
    "missing_data = pd.concat([total, percent], axis=1, keys=['Total', 'Percent'])\n",
    "missing_data.head(20)"
   ]
  },
  {
   "cell_type": "markdown",
   "id": "cfde1e30",
   "metadata": {},
   "source": [
    "There are many variables, such as PoolQC and MiscFeature that have a lot of missing values. \n",
    "\n",
    "Let's take a closer look at the data points that have an entry for 'PoolQC':"
   ]
  },
  {
   "cell_type": "code",
   "execution_count": 25,
   "id": "6c2e1208",
   "metadata": {},
   "outputs": [
    {
     "data": {
      "text/plain": [
       "count         7.000000\n",
       "mean     288138.571429\n",
       "std      206071.850935\n",
       "min      160000.000000\n",
       "25%      176000.000000\n",
       "50%      235000.000000\n",
       "75%      262485.000000\n",
       "max      745000.000000\n",
       "Name: SalePrice, dtype: float64"
      ]
     },
     "execution_count": 25,
     "metadata": {},
     "output_type": "execute_result"
    }
   ],
   "source": [
    "pool = train.dropna(subset=['PoolQC'])\n",
    "pool['SalePrice'].describe()"
   ]
  },
  {
   "cell_type": "code",
   "execution_count": 26,
   "id": "fce6e921",
   "metadata": {},
   "outputs": [
    {
     "data": {
      "text/plain": [
       "Id\n",
       "198     235000\n",
       "811     181000\n",
       "1171    171000\n",
       "1183    745000\n",
       "1299    160000\n",
       "1387    250000\n",
       "1424    274970\n",
       "Name: SalePrice, dtype: int64"
      ]
     },
     "execution_count": 26,
     "metadata": {},
     "output_type": "execute_result"
    }
   ],
   "source": [
    "pool['SalePrice']"
   ]
  },
  {
   "cell_type": "code",
   "execution_count": 22,
   "id": "db9fc38c",
   "metadata": {},
   "outputs": [
    {
     "data": {
      "image/png": "[encoded data removed]",
      "text/plain": [
       "<Figure size 500x500 with 1 Axes>"
      ]
     },
     "metadata": {},
     "output_type": "display_data"
    }
   ],
   "source": [
    "sns.displot(pool['SalePrice'],kde='True');"
   ]
  },
  {
   "cell_type": "code",
   "execution_count": 23,
   "id": "caac1634",
   "metadata": {},
   "outputs": [
    {
     "data": {
      "text/plain": [
       "count      1453.000000\n",
       "mean     180404.663455\n",
       "std       78168.872519\n",
       "min       34900.000000\n",
       "25%      129900.000000\n",
       "50%      162900.000000\n",
       "75%      213500.000000\n",
       "max      755000.000000\n",
       "Name: SalePrice, dtype: float64"
      ]
     },
     "execution_count": 23,
     "metadata": {},
     "output_type": "execute_result"
    }
   ],
   "source": [
    "remaining = train[train['PoolQC'].isnull()]\n",
    "remaining['SalePrice'].describe()"
   ]
  },
  {
   "cell_type": "code",
   "execution_count": 24,
   "id": "6e2c2d78",
   "metadata": {},
   "outputs": [
    {
     "data": {
      "image/png": "[encoded data removed]",
      "text/plain": [
       "<Figure size 500x500 with 1 Axes>"
      ]
     },
     "metadata": {},
     "output_type": "display_data"
    }
   ],
   "source": [
    "sns.displot(remaining['SalePrice'],kde='True');"
   ]
  },
  {
   "cell_type": "markdown",
   "id": "9eb5984f",
   "metadata": {},
   "source": [
    "The mean sale price for houses with PoolQC is 288000 dollars, almost 100000 dollars more than the mean of the remaining houses! \n",
    "\n",
    "It makes sense that such features belong to the really expensive or luxurious houses only, and are therefore missing in most of the data points. \n",
    "\n",
    "We can omit them for now and evaluate how well our model performs. If, for instance, we find that our model significantly underperforms when it comes to the outliers, then we can consider adding these features with an indicator variable such that the presence of these features would tell our model to predict a higher price.\n",
    "\n",
    "Now let's look at the next category of variables - 'GarageX'. \n",
    "\n",
    "All of them have the same number of missing values. Let's check if it's the same rows for each of the variables:"
   ]
  },
  {
   "cell_type": "code",
   "execution_count": null,
   "id": "e4ac0e8d",
   "metadata": {},
   "outputs": [],
   "source": [
    "GarageX_columns = ['GarageFinish', 'GarageYrBlt', 'GarageType', 'GarageQual', 'GarageCond']\n",
    "indices = []\n",
    "#Extract the indices of the missing values in those 4 columns\n",
    "for col in GarageX_columns:\n",
    "    bool_series = pd.isnull(train[col])\n",
    "    null_values = train[bool_series][col].index\n",
    "    indices.append(null_values)"
   ]
  },
  {
   "cell_type": "code",
   "execution_count": null,
   "id": "7c8846b6",
   "metadata": {},
   "outputs": [],
   "source": [
    "#Stack the arrays\n",
    "stacked_indices = np.vstack(indices)\n",
    "\n",
    "#Get the differentiation along the axis of stacking; check if all differentiations are equal to zeros\n",
    "(np.diff(stacked_indices, axis=0) == 0).all()"
   ]
  },
  {
   "cell_type": "markdown",
   "id": "eba84f3a",
   "metadata": {},
   "source": [
    "As we thought, the missing values in the GarageX columns belong to the same houses. \n",
    "\n",
    "These variables are likely to be strongly correlated with GarageCar, which has no missing values. So we can safely remove the GarageX columns for now. \n",
    "\n",
    "Let's do the same investigation for the BasementX columns. "
   ]
  },
  {
   "cell_type": "code",
   "execution_count": null,
   "id": "c25a7544",
   "metadata": {},
   "outputs": [],
   "source": [
    "BsmtX_columns = ['BsmtFinType2', 'BsmtExposure', 'BsmtQual', 'BsmtFinType1', 'BsmtCond']\n",
    "indices = []\n",
    "#Extract the indices of the missing values in those 5 columns\n",
    "for col in BsmtX_columns:\n",
    "    bool_series = pd.isnull(train[col])\n",
    "    null_values = train[bool_series][col].index\n",
    "    indices.append(null_values)"
   ]
  },
  {
   "cell_type": "code",
   "execution_count": null,
   "id": "a7168871",
   "metadata": {},
   "outputs": [],
   "source": [
    "indices"
   ]
  },
  {
   "cell_type": "markdown",
   "id": "d9939db9",
   "metadata": {},
   "source": [
    "With the smaller number of missing values in the BsmtX columns, a simple visual inspection suffices to show that they come from mostly the same houses. As the BsmtX columns are likely to be strongly correlated with TotalBsmtSF, we can omit them in our analysis for now as well. \n",
    "\n",
    "Finally, doing a quick inspection of the MasVnrType and MasVnrArea columns:"
   ]
  },
  {
   "cell_type": "code",
   "execution_count": null,
   "id": "cda0818b",
   "metadata": {},
   "outputs": [],
   "source": [
    "indices = []\n",
    "#Extract the indices of the missing values in those 5 columns\n",
    "for col in ['MasVnrType','MasVnrArea']:\n",
    "    bool_series = pd.isnull(train[col])\n",
    "    null_values = train[bool_series][col].index\n",
    "    indices.append(null_values)"
   ]
  },
  {
   "cell_type": "code",
   "execution_count": null,
   "id": "cbdbeac3",
   "metadata": {},
   "outputs": [],
   "source": [
    "np.array_equal(indices[0], indices[1])"
   ]
  },
  {
   "cell_type": "markdown",
   "id": "1bae6c93",
   "metadata": {},
   "source": [
    "The 8 missing values come from the same rows, and they are likely to be strongly correlated with OverallQual. So we can omit them too.\n",
    "\n",
    "The remaining missing value is in the 'Electrical' column. One missing value will not affect our model much, so we can remove that row in our analysis for now. "
   ]
  },
  {
   "cell_type": "code",
   "execution_count": null,
   "id": "c4e7d02f",
   "metadata": {},
   "outputs": [],
   "source": [
    "#remove row with missing value in 'Electrical'\n",
    "train = train.drop([train[train['Electrical'].isnull()].index.values.astype(int)[0]])\n",
    "#remove other columns with missing data\n",
    "train = train.drop(train.columns[train.isnull().any()].values.astype(str),axis=1)"
   ]
  },
  {
   "cell_type": "markdown",
   "id": "12b4112d",
   "metadata": {},
   "source": [
    "## 6) Feature Engineering ##"
   ]
  },
  {
   "cell_type": "markdown",
   "id": "76fb81f5",
   "metadata": {},
   "source": [
    "### 6.1) Total Square Feet ###\n",
    "\n",
    "As the total living space is important when people purchase a house, we'll combine predictors that add up the living space above and below ground."
   ]
  },
  {
   "cell_type": "code",
   "execution_count": null,
   "id": "4a57c5a8",
   "metadata": {},
   "outputs": [],
   "source": [
    "train['TotalSF'] = train['GrLivArea'] + train['TotalBsmtSF']"
   ]
  },
  {
   "cell_type": "code",
   "execution_count": null,
   "id": "3403387f",
   "metadata": {},
   "outputs": [],
   "source": [
    "#scatter plot grlivarea/saleprice\n",
    "var = 'TotalSF'\n",
    "data = pd.concat([train['SalePrice'], train[var]], axis=1)\n",
    "data.plot.scatter(x=var, y='SalePrice', ylim=(0,800000))\n",
    "m, b = np.polyfit(data[var], data['SalePrice'], 1) \n",
    "plt.plot(data[var], m*data[var] + b, color='black')"
   ]
  },
  {
   "cell_type": "code",
   "execution_count": null,
   "id": "2f0fd8b1",
   "metadata": {},
   "outputs": [],
   "source": [
    "#saleprice correlation matrix\n",
    "np.corrcoef(train['TotalSF'],train['SalePrice'])"
   ]
  },
  {
   "cell_type": "markdown",
   "id": "0b81c1e0",
   "metadata": {},
   "source": [
    "As expected, the correlation with SalePrice is very strong (0.78). \n",
    "\n",
    "For reference, the correlation coefficients of GrLivArea and TotalBsSF are 0.71 and 0.61 respectively. "
   ]
  },
  {
   "cell_type": "markdown",
   "id": "dbf361f5",
   "metadata": {},
   "source": [
    "### 6.2) Binning Neighborhoods ###"
   ]
  },
  {
   "cell_type": "code",
   "execution_count": null,
   "id": "4d811f60",
   "metadata": {},
   "outputs": [],
   "source": [
    "var = 'Neighborhood'\n",
    "# groupby neighborhood and estimate the median sale price\n",
    "median_by_nbhd = train.groupby([var])['SalePrice'].median()\n",
    "median_by_nbhd.sort_values(ascending=True, inplace=True)\n",
    "# groupby neighborhood and estimate the median sale price\n",
    "mean_by_nbhd = train.groupby([var])['SalePrice'].mean()\n",
    "mean_by_nbhd.sort_values(ascending=True, inplace=True)"
   ]
  },
  {
   "cell_type": "code",
   "execution_count": null,
   "id": "72368be9",
   "metadata": {},
   "outputs": [],
   "source": [
    "median_by_nbhd.plot.bar()\n",
    "plt.axhline(y = median_saleprice, linestyle='dashed', color='red')"
   ]
  },
  {
   "cell_type": "code",
   "execution_count": null,
   "id": "c6685f14",
   "metadata": {},
   "outputs": [],
   "source": [
    "mean_by_nbhd.plot.bar()\n",
    "plt.axhline(y = mean_saleprice, linestyle='dashed', color='red')"
   ]
  },
  {
   "cell_type": "markdown",
   "id": "6df4fe52",
   "metadata": {},
   "source": [
    "There are three neighborhoods whose mean and median sale price are clearly higher than the rest.\n",
    "\n",
    "The difference between the three least affluent neighborhoods and the rest are less pronounced, but still clearly identifiable. \n",
    "\n",
    "We can then form another 2 clusters. The first cluster is the one whose mean and median are above the least affluent group, but still lower than the overall mean and median, and the second cluster is the one whose mean and median are below the most affluent group, but still higher than the overall mean and median. "
   ]
  },
  {
   "cell_type": "code",
   "execution_count": null,
   "id": "bb174796",
   "metadata": {},
   "outputs": [],
   "source": [
    "all_nbhds = list(train['Neighborhood'].unique())\n",
    "neighborhoods = {}\n",
    "for nbhd in all_nbhds:\n",
    "    if nbhd in ['MeadowV', 'IDOTRR', 'BrDale']:\n",
    "        neighborhoods[nbhd] = 1\n",
    "    elif nbhd in ['StoneBr','NridgHt', 'NoRidge']:\n",
    "        neighborhoods[nbhd] = 4\n",
    "    elif nbhd in ['BrkSide', 'Edwards', 'OldTown', 'Sawyer', 'Blueste', 'SWISU', 'NPkVill', 'NAmes', 'Mitchel']:\n",
    "        neighborhoods[nbhd] = 2\n",
    "    else:\n",
    "        neighborhoods[nbhd] = 3\n",
    "        \n",
    "train['Neighborhood'] = train['Neighborhood'].apply(lambda x: neighborhoods[x])"
   ]
  },
  {
   "cell_type": "code",
   "execution_count": null,
   "id": "c0ac9de6",
   "metadata": {},
   "outputs": [],
   "source": [
    "train['Neighborhood'] = pd.Categorical(train['Neighborhood'], ordered=True)\n",
    "train['Neighborhood'].value_counts()"
   ]
  },
  {
   "cell_type": "markdown",
   "id": "9a7b91aa",
   "metadata": {},
   "source": [
    "### 6.3) Adding 'House Age', 'Remodeled (Yes/No) and IsNew Variables ###"
   ]
  },
  {
   "cell_type": "code",
   "execution_count": null,
   "id": "f54d12bd",
   "metadata": {},
   "outputs": [],
   "source": [
    "train[['YearBuilt','YearRemodAdd']]"
   ]
  },
  {
   "cell_type": "markdown",
   "id": "fd4c1862",
   "metadata": {},
   "source": [
    "YearRemodAdd default to YearBuilt if there has been no remodelling or addition. We can use YearRemodAdd and YearSold to determine the age of the house. This would give an indication of how newly furnished the house is.\n",
    "\n",
    "However, we should acknowledge that a house that has been remodelled is likely to be worth less than a house which was newly built in the same year still. Hence we can add a Remodelled Yes/No variable that would act as some sort of penalty parameter. "
   ]
  },
  {
   "cell_type": "code",
   "execution_count": null,
   "id": "75ecaf76",
   "metadata": {},
   "outputs": [],
   "source": [
    "train['Age'] = train['YrSold'] - train['YearRemodAdd']\n",
    "train['Remodelled'] = train.apply(lambda x: 0 if (x['YearBuilt'] == x['YearRemodAdd']) else 1, axis=1)"
   ]
  },
  {
   "cell_type": "code",
   "execution_count": null,
   "id": "868612f8",
   "metadata": {},
   "outputs": [],
   "source": [
    "#scatter plot grlivarea/saleprice\n",
    "var = 'Age'\n",
    "data = pd.concat([train['SalePrice'], train[var]], axis=1)\n",
    "data.plot.scatter(x=var, y='SalePrice', ylim=(0,800000))\n",
    "m, b = np.polyfit(data[var], data['SalePrice'], 1) \n",
    "plt.plot(data[var], m*data[var] + b, color='black')"
   ]
  },
  {
   "cell_type": "markdown",
   "id": "8ca7418f",
   "metadata": {},
   "source": [
    "As expected, the age of the house and its sale price are negatively correlated."
   ]
  },
  {
   "cell_type": "code",
   "execution_count": null,
   "id": "1097b46d",
   "metadata": {},
   "outputs": [],
   "source": [
    "#saleprice correlation matrix\n",
    "np.corrcoef(train['Age'],train['SalePrice'])"
   ]
  },
  {
   "cell_type": "code",
   "execution_count": null,
   "id": "ef9b4f8e",
   "metadata": {},
   "outputs": [],
   "source": [
    "train.groupby('Remodelled')['SalePrice'].agg('mean')"
   ]
  },
  {
   "cell_type": "markdown",
   "id": "7d8f3bdc",
   "metadata": {},
   "source": [
    "Houses that are remodelled appear to sell for less than houses which are not, though not by much."
   ]
  },
  {
   "cell_type": "markdown",
   "id": "2a299db8",
   "metadata": {},
   "source": [
    "Finally, let's create the IsNew variable. Here we are assuming that houses which are brand new are worth more, so there's a non-linear drop-off in SalePrice as compared to just using the age of the house."
   ]
  },
  {
   "cell_type": "code",
   "execution_count": null,
   "id": "9c651f57",
   "metadata": {},
   "outputs": [],
   "source": [
    "train['IsNew'] = train.apply(lambda x: 1 if (x['YrSold'] == x['YearBuilt']) else 0, axis=1)"
   ]
  },
  {
   "cell_type": "markdown",
   "id": "08762716",
   "metadata": {},
   "source": [
    "Let's convert these two variables into categorical variables. Note that we can treat YrSold as an ordinal variable, since a house sold before or after a particular year has a clear meaning on its own. MoSold, however, should be treated as a nominal variable since we cannot ascertain whether an event happened before or after another month with just the month alone. "
   ]
  },
  {
   "cell_type": "code",
   "execution_count": null,
   "id": "0a1137fc",
   "metadata": {},
   "outputs": [],
   "source": [
    "train['YrSold'] = pd.Categorical(train['YrSold'], ordered=True)\n",
    "train['MoSold'] = pd.Categorical(train['MoSold'], ordered=False)"
   ]
  },
  {
   "cell_type": "markdown",
   "id": "6f9e9c2b",
   "metadata": {},
   "source": [
    "### 6.4) Total Number of Bathrooms ###\n",
    "\n",
    "We also have four bathroom variables. Let's combine all of them into one and see how well it correlates with SalePrice."
   ]
  },
  {
   "cell_type": "code",
   "execution_count": null,
   "id": "84e0d2b2",
   "metadata": {},
   "outputs": [],
   "source": [
    "bathroom_vars = ['BsmtFullBath', 'BsmtHalfBath', 'FullBath', 'HalfBath']\n",
    "train[bathroom_vars].info()"
   ]
  },
  {
   "cell_type": "code",
   "execution_count": null,
   "id": "ca28f7c0",
   "metadata": {},
   "outputs": [],
   "source": [
    "train[bathroom_vars].head()"
   ]
  },
  {
   "cell_type": "code",
   "execution_count": null,
   "id": "1a42b526",
   "metadata": {},
   "outputs": [],
   "source": [
    "train['TotalBath'] = train['BsmtFullBath'] + 0.5*train['BsmtHalfBath'] + train['FullBath'] + 0.5*train['HalfBath']"
   ]
  },
  {
   "cell_type": "code",
   "execution_count": null,
   "id": "80953588",
   "metadata": {},
   "outputs": [],
   "source": [
    "pd.concat([train['SalePrice'], train[bathroom_vars], train['TotalBath']], axis=1).corr()"
   ]
  },
  {
   "cell_type": "markdown",
   "id": "de6fc1b4",
   "metadata": {},
   "source": [
    "The total number of bathrooms captures information from all the other bathroom variables, and is the most correlated with SalePrice. "
   ]
  },
  {
   "cell_type": "markdown",
   "id": "b0bb8f89",
   "metadata": {},
   "source": [
    "### 6.5) Consolidating Porch Variables ###\n",
    "\n",
    "There are 5 variables related to porches and decks:\n",
    "- WoodDeckSF: Wood deck area in square feet\n",
    "- OpenPorchSF: Open porch area in square feet\n",
    "- EnclosedPorch: Enclosed porch area in square feet\n",
    "- 3SsnPorch: Three season porch area in square feet\n",
    "- ScreenPorch: Screen porch area in square feet\n",
    "\n",
    "A porch is an addition to the entryway while a deck is generally built in the backyard and serves as a recreational area. So we can leave WoodDeckSF alone and consolidate the other 4 variables:"
   ]
  },
  {
   "cell_type": "code",
   "execution_count": 27,
   "id": "d79e6bf7",
   "metadata": {},
   "outputs": [],
   "source": [
    "train['TotalPorchSF'] = train['OpenPorchSF'] + train['EnclosedPorch'] + train['3SsnPorch'] + train['ScreenPorch']"
   ]
  },
  {
   "cell_type": "code",
   "execution_count": 28,
   "id": "8b0238e5",
   "metadata": {},
   "outputs": [],
   "source": [
    "porch_vars = ['TotalPorchSF', 'WoodDeckSF', 'OpenPorchSF', 'EnclosedPorch', '3SsnPorch', 'ScreenPorch']"
   ]
  },
  {
   "cell_type": "code",
   "execution_count": 30,
   "id": "f9d74732",
   "metadata": {},
   "outputs": [
    {
     "data": {
      "text/html": [
       "<div>\n",
       "<style scoped>\n",
       "    .dataframe tbody tr th:only-of-type {\n",
       "        vertical-align: middle;\n",
       "    }\n",
       "\n",
       "    .dataframe tbody tr th {\n",
       "        vertical-align: top;\n",
       "    }\n",
       "\n",
       "    .dataframe thead th {\n",
       "        text-align: right;\n",
       "    }\n",
       "</style>\n",
       "<table border=\"1\" class=\"dataframe\">\n",
       "  <thead>\n",
       "    <tr style=\"text-align: right;\">\n",
       "      <th></th>\n",
       "      <th>SalePrice</th>\n",
       "      <th>TotalPorchSF</th>\n",
       "      <th>WoodDeckSF</th>\n",
       "      <th>OpenPorchSF</th>\n",
       "      <th>EnclosedPorch</th>\n",
       "      <th>3SsnPorch</th>\n",
       "      <th>ScreenPorch</th>\n",
       "    </tr>\n",
       "  </thead>\n",
       "  <tbody>\n",
       "    <tr>\n",
       "      <th>SalePrice</th>\n",
       "      <td>1.000000</td>\n",
       "      <td>0.195739</td>\n",
       "      <td>0.324413</td>\n",
       "      <td>0.315856</td>\n",
       "      <td>-0.128578</td>\n",
       "      <td>0.044584</td>\n",
       "      <td>0.111447</td>\n",
       "    </tr>\n",
       "    <tr>\n",
       "      <th>TotalPorchSF</th>\n",
       "      <td>0.195739</td>\n",
       "      <td>1.000000</td>\n",
       "      <td>-0.084709</td>\n",
       "      <td>0.613543</td>\n",
       "      <td>0.468086</td>\n",
       "      <td>0.236689</td>\n",
       "      <td>0.519955</td>\n",
       "    </tr>\n",
       "    <tr>\n",
       "      <th>WoodDeckSF</th>\n",
       "      <td>0.324413</td>\n",
       "      <td>-0.084709</td>\n",
       "      <td>1.000000</td>\n",
       "      <td>0.058661</td>\n",
       "      <td>-0.125989</td>\n",
       "      <td>-0.032771</td>\n",
       "      <td>-0.074181</td>\n",
       "    </tr>\n",
       "    <tr>\n",
       "      <th>OpenPorchSF</th>\n",
       "      <td>0.315856</td>\n",
       "      <td>0.613543</td>\n",
       "      <td>0.058661</td>\n",
       "      <td>1.000000</td>\n",
       "      <td>-0.093079</td>\n",
       "      <td>-0.005842</td>\n",
       "      <td>0.074304</td>\n",
       "    </tr>\n",
       "    <tr>\n",
       "      <th>EnclosedPorch</th>\n",
       "      <td>-0.128578</td>\n",
       "      <td>0.468086</td>\n",
       "      <td>-0.125989</td>\n",
       "      <td>-0.093079</td>\n",
       "      <td>1.000000</td>\n",
       "      <td>-0.037305</td>\n",
       "      <td>-0.082864</td>\n",
       "    </tr>\n",
       "    <tr>\n",
       "      <th>3SsnPorch</th>\n",
       "      <td>0.044584</td>\n",
       "      <td>0.236689</td>\n",
       "      <td>-0.032771</td>\n",
       "      <td>-0.005842</td>\n",
       "      <td>-0.037305</td>\n",
       "      <td>1.000000</td>\n",
       "      <td>-0.031436</td>\n",
       "    </tr>\n",
       "    <tr>\n",
       "      <th>ScreenPorch</th>\n",
       "      <td>0.111447</td>\n",
       "      <td>0.519955</td>\n",
       "      <td>-0.074181</td>\n",
       "      <td>0.074304</td>\n",
       "      <td>-0.082864</td>\n",
       "      <td>-0.031436</td>\n",
       "      <td>1.000000</td>\n",
       "    </tr>\n",
       "  </tbody>\n",
       "</table>\n",
       "</div>"
      ],
      "text/plain": [
       "               SalePrice  TotalPorchSF  WoodDeckSF  OpenPorchSF  \\\n",
       "SalePrice       1.000000      0.195739    0.324413     0.315856   \n",
       "TotalPorchSF    0.195739      1.000000   -0.084709     0.613543   \n",
       "WoodDeckSF      0.324413     -0.084709    1.000000     0.058661   \n",
       "OpenPorchSF     0.315856      0.613543    0.058661     1.000000   \n",
       "EnclosedPorch  -0.128578      0.468086   -0.125989    -0.093079   \n",
       "3SsnPorch       0.044584      0.236689   -0.032771    -0.005842   \n",
       "ScreenPorch     0.111447      0.519955   -0.074181     0.074304   \n",
       "\n",
       "               EnclosedPorch  3SsnPorch  ScreenPorch  \n",
       "SalePrice          -0.128578   0.044584     0.111447  \n",
       "TotalPorchSF        0.468086   0.236689     0.519955  \n",
       "WoodDeckSF         -0.125989  -0.032771    -0.074181  \n",
       "OpenPorchSF        -0.093079  -0.005842     0.074304  \n",
       "EnclosedPorch       1.000000  -0.037305    -0.082864  \n",
       "3SsnPorch          -0.037305   1.000000    -0.031436  \n",
       "ScreenPorch        -0.082864  -0.031436     1.000000  "
      ]
     },
     "execution_count": 30,
     "metadata": {},
     "output_type": "execute_result"
    }
   ],
   "source": [
    "pd.concat([train['SalePrice'], train[porch_vars]], axis=1).corr()"
   ]
  },
  {
   "cell_type": "markdown",
   "id": "54a146e7",
   "metadata": {},
   "source": [
    "Interestingly, Sale price correlates the most with WoodDeckSF and OpenPorchSF. The other porch variables have a very weak correlation with sale price. We'll use WoodDeckSF and OpenPorchSF as our candidate variables instead. "
   ]
  },
  {
   "cell_type": "markdown",
   "id": "ff85950a",
   "metadata": {},
   "source": [
    "## Outliers ##\n",
    "\n",
    "\n"
   ]
  },
  {
   "cell_type": "code",
   "execution_count": null,
   "id": "647b95e1",
   "metadata": {},
   "outputs": [],
   "source": [
    "train.info()"
   ]
  },
  {
   "cell_type": "code",
   "execution_count": null,
   "id": "f698d54c",
   "metadata": {},
   "outputs": [],
   "source": [
    "fig, ax = plt.subplots()\n",
    "ax.scatter(train['GrLivArea'], train['SalePrice'])\n",
    "bool_mask = train['GrLivArea'] > 4000\n",
    "ax.scatter(train[bool_mask]['GrLivArea'], train[bool_mask]['SalePrice'], color='red')\n",
    "n = train[bool_mask].index\n",
    "#for i, txt in enumerate(n):\n",
    "#    ax.annotate((txt, train['SalePrice'].iloc[txt]), \n",
    "#                (txt, train['GrLivArea'].iloc[txt]))\n",
    "\n",
    "for i in range(0, train[bool_mask].shape[0]):\n",
    "    ax.annotate((train[bool_mask]['GrLivArea'].index[i]),\n",
    "               (train[bool_mask]['GrLivArea'].iloc[i], train[bool_mask]['SalePrice'].iloc[i]),\n",
    "               fontsize=8)"
   ]
  },
  {
   "cell_type": "code",
   "execution_count": null,
   "id": "6b8632b7",
   "metadata": {},
   "outputs": [],
   "source": [
    "fig, ax = plt.subplots()\n",
    "ax.scatter(train['TotalBsmtSF'], train['SalePrice'])\n",
    "bool_mask = train['TotalBsmtSF'] > 4000\n",
    "ax.scatter(train[bool_mask]['TotalBsmtSF'], train[bool_mask]['SalePrice'], color='red')\n",
    "for i in range(0, train[bool_mask].shape[0]):\n",
    "    ax.annotate((train[bool_mask]['TotalBsmtSF'].index[i]),\n",
    "               (train[bool_mask]['TotalBsmtSF'].iloc[i], train[bool_mask]['SalePrice'].iloc[i]),\n",
    "               fontsize=8)"
   ]
  },
  {
   "cell_type": "code",
   "execution_count": null,
   "id": "309a466d",
   "metadata": {},
   "outputs": [],
   "source": [
    "#Let's examine the 4 points which are very far away from the rest of the dataset in the GrLivArea variable\n",
    "train[train['GrLivArea'] > 4000][['SalePrice', 'OverallQual', 'age', 'GrLivArea', 'TotalBsmtSF', 'SaleCondition']]"
   ]
  },
  {
   "cell_type": "code",
   "execution_count": null,
   "id": "48366257",
   "metadata": {},
   "outputs": [],
   "source": [
    "#Looking at houses with Partial Sale Condition\n",
    "bool_mask = (train['SaleCondition'] == 'Partial')\n",
    "train[bool_mask][['SalePrice', 'SaleCondition']].describe()"
   ]
  },
  {
   "cell_type": "markdown",
   "id": "43cd0ad4",
   "metadata": {},
   "source": [
    "Observation 1299 is in good condition (OverallQual = 10, age = 2), and is very huge (GrLivArea = 5642, TotalBsmtSF = 6110). While I initially considered that its sale condition (Partial) may explain its lower price, we do see other houses with the same sale condition that fetch much higher prices.\n",
    "\n",
    "Let's remove this outlier for now. "
   ]
  },
  {
   "cell_type": "code",
   "execution_count": null,
   "id": "b1612d2c",
   "metadata": {},
   "outputs": [],
   "source": [
    "#remove observation with index 1299\n",
    "train = train.drop([1299], axis=0)"
   ]
  },
  {
   "cell_type": "code",
   "execution_count": null,
   "id": "55ff6516",
   "metadata": {},
   "outputs": [],
   "source": [
    "#Using Robust Scaling\n",
    "X = train[['OverallQual','age', 'GrLivArea', 'TotalBsmtSF']]\n",
    "transformer = RobustScaler().fit(X)\n",
    "X[['OverallQual','age', 'GrLivArea', 'TotalBsmtSF']] = transformer.transform(X)"
   ]
  },
  {
   "cell_type": "code",
   "execution_count": null,
   "id": "e24c318d",
   "metadata": {},
   "outputs": [],
   "source": [
    "X = pd.concat((X, train[['Neighborhood', 'SaleCondition']]), axis=1)"
   ]
  },
  {
   "cell_type": "code",
   "execution_count": null,
   "id": "b374f5d2",
   "metadata": {},
   "outputs": [],
   "source": [
    "#Creating dummy columns using one-hot encoding\n",
    "def create_dummies(df,column_name):\n",
    "    dummies = pd.get_dummies(df[column_name],prefix=column_name)\n",
    "    df = pd.concat([df,dummies],axis=1)\n",
    "    return df\n",
    "\n",
    "X = create_dummies(X, \"Neighborhood\")\n",
    "X = create_dummies(X, \"SaleCondition\")"
   ]
  },
  {
   "cell_type": "code",
   "execution_count": null,
   "id": "a087ff60",
   "metadata": {},
   "outputs": [],
   "source": [
    "#Using log transform on Sale Price\n",
    "y = np.log(train['SalePrice'])"
   ]
  }
 ],
 "metadata": {
  "kernelspec": {
   "display_name": "venv",
   "language": "python",
   "name": "venv"
  },
  "language_info": {
   "codemirror_mode": {
    "name": "ipython",
    "version": 3
   },
   "file_extension": ".py",
   "mimetype": "text/x-python",
   "name": "python",
   "nbconvert_exporter": "python",
   "pygments_lexer": "ipython3",
   "version": "3.8.13"
  }
 },
 "nbformat": 4,
 "nbformat_minor": 5
}
